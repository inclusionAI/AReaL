{
 "cells": [
  {
   "cell_type": "markdown",
   "id": "d524535b",
   "metadata": {},
   "source": [
    "# TAU Airline Environment Usage Demo\n",
    "\n",
    "This notebook demonstrates how to use the airline environment implementation based on TAU bench. It shows various airline reservation operations including booking, searching, updating, and canceling reservations."
   ]
  },
  {
   "cell_type": "markdown",
   "id": "bc4eeaa3",
   "metadata": {},
   "source": [
    "## 1. Environment Setup and Initialization"
   ]
  },
  {
   "cell_type": "code",
   "execution_count": 6,
   "id": "1abe6da5",
   "metadata": {},
   "outputs": [],
   "source": [
    "# Import the airline environment\n",
    "import sys\n",
    "import os\n",
    "sys.path.append('/mnt/raid0/home/jiaao/MagicData/Genflow/pipelines/tasks/tool_use/tau_airline')\n",
    "\n",
    "from airline_env import get_airline_environment, AirlineTools\n",
    "import json\n",
    "from pprint import pprint"
   ]
  },
  {
   "cell_type": "code",
   "execution_count": 7,
   "id": "e8631542",
   "metadata": {},
   "outputs": [
    {
     "name": "stdout",
     "output_type": "stream",
     "text": [
      "Environment Statistics:\n",
      "{'num_flights': 300,\n",
      " 'num_flights_instances': 9000,\n",
      " 'num_reservations': 2000,\n",
      " 'num_users': 500}\n"
     ]
    }
   ],
   "source": [
    "# Initialize the airline environment\n",
    "env = get_airline_environment()\n",
    "tools = env.get_tools()\n",
    "\n",
    "print(\"Environment Statistics:\")\n",
    "pprint(env.get_statistics())"
   ]
  },
  {
   "cell_type": "code",
   "execution_count": null,
   "id": "8e726984",
   "metadata": {},
   "outputs": [],
   "source": []
  },
  {
   "cell_type": "markdown",
   "id": "e5d20f53",
   "metadata": {},
   "source": [
    "## 2. Exploring Available Data"
   ]
  },
  {
   "cell_type": "markdown",
   "id": "efb743d7",
   "metadata": {},
   "source": [
    "### 2.1 List All Airports"
   ]
  },
  {
   "cell_type": "code",
   "execution_count": 9,
   "id": "b278a425",
   "metadata": {},
   "outputs": [
    {
     "name": "stdout",
     "output_type": "stream",
     "text": [
      "Available Airports:\n",
      "  SFO: San Francisco\n",
      "  JFK: New York\n",
      "  LAX: Los Angeles\n",
      "  ORD: Chicago\n",
      "  DFW: Dallas\n",
      "  DEN: Denver\n",
      "  SEA: Seattle\n",
      "  ATL: Atlanta\n",
      "  MIA: Miami\n",
      "  BOS: Boston\n",
      "  PHX: Phoenix\n",
      "  IAH: Houston\n",
      "  LAS: Las Vegas\n",
      "  MCO: Orlando\n",
      "  EWR: Newark\n",
      "  CLT: Charlotte\n",
      "  MSP: Minneapolis\n",
      "  DTW: Detroit\n",
      "  PHL: Philadelphia\n",
      "  LGA: LaGuardia\n"
     ]
    }
   ],
   "source": [
    "# Get all available airports\n",
    "airports = tools.list_all_airports()\n",
    "print(\"Available Airports:\")\n",
    "for airport in airports:\n",
    "    print(f\"  {airport.iata}: {airport.city}\")"
   ]
  },
  {
   "cell_type": "markdown",
   "id": "db19e9e9",
   "metadata": {},
   "source": [
    "### 2.2 Explore Sample User Data"
   ]
  },
  {
   "cell_type": "code",
   "execution_count": 10,
   "id": "d9be0fc8",
   "metadata": {},
   "outputs": [
    {
     "name": "stdout",
     "output_type": "stream",
     "text": [
      "Sample user IDs: ['mia_li_3668', 'mei_hernandez_8984', 'aarav_nguyen_1055', 'chen_hernandez_2608', 'lucas_hernandez_8985']\n",
      "\n",
      "User Details for mia_li_3668:\n",
      "Name: Mia Li\n",
      "Email: mia.li3818@example.com\n",
      "Membership: gold\n",
      "Number of reservations: 3\n",
      "Payment methods: ['credit_card_4421486', 'certificate_4856383', 'certificate_7504069', 'credit_card_1955700']\n"
     ]
    }
   ],
   "source": [
    "# Get a sample user\n",
    "user_ids = list(env.db.users.keys())[:5]\n",
    "print(f\"Sample user IDs: {user_ids}\")\n",
    "\n",
    "# Get details for the first user\n",
    "sample_user_id = user_ids[0]\n",
    "user = tools.get_user_details(sample_user_id)\n",
    "print(f\"\\nUser Details for {sample_user_id}:\")\n",
    "print(f\"Name: {user.name.first_name} {user.name.last_name}\")\n",
    "print(f\"Email: {user.email}\")\n",
    "print(f\"Membership: {user.membership}\")\n",
    "print(f\"Number of reservations: {len(user.reservations)}\")\n",
    "print(f\"Payment methods: {list(user.payment_methods.keys())}\")"
   ]
  },
  {
   "cell_type": "markdown",
   "id": "ccd71849",
   "metadata": {},
   "source": [
    "### 2.3 Explore Sample Reservation Data"
   ]
  },
  {
   "cell_type": "code",
   "execution_count": 11,
   "id": "bc158f63",
   "metadata": {},
   "outputs": [
    {
     "name": "stdout",
     "output_type": "stream",
     "text": [
      "Sample reservation IDs: ['4WQ150', 'VAAOXJ', 'PGAGLM']\n",
      "\n",
      "Reservation Details for 4WQ150:\n",
      "User ID: chen_jackson_3290\n",
      "Route: DFW → LAX\n",
      "Flight Type: round_trip\n",
      "Cabin: business\n",
      "Number of passengers: 3\n",
      "Number of flights: 2\n",
      "Total baggages: 5\n",
      "Insurance: no\n",
      "Status: Active\n"
     ]
    }
   ],
   "source": [
    "# Get a sample reservation\n",
    "reservation_ids = list(env.db.reservations.keys())[:3]\n",
    "print(f\"Sample reservation IDs: {reservation_ids}\")\n",
    "\n",
    "# Get details for the first reservation\n",
    "sample_reservation_id = reservation_ids[0]\n",
    "reservation = tools.get_reservation_details(sample_reservation_id)\n",
    "print(f\"\\nReservation Details for {sample_reservation_id}:\")\n",
    "print(f\"User ID: {reservation.user_id}\")\n",
    "print(f\"Route: {reservation.origin} → {reservation.destination}\")\n",
    "print(f\"Flight Type: {reservation.flight_type}\")\n",
    "print(f\"Cabin: {reservation.cabin}\")\n",
    "print(f\"Number of passengers: {len(reservation.passengers)}\")\n",
    "print(f\"Number of flights: {len(reservation.flights)}\")\n",
    "print(f\"Total baggages: {reservation.total_baggages}\")\n",
    "print(f\"Insurance: {reservation.insurance}\")\n",
    "print(f\"Status: {reservation.status or 'Active'}\")"
   ]
  },
  {
   "cell_type": "markdown",
   "id": "e3b7ba50",
   "metadata": {},
   "source": [
    "## 3. Flight Search Operations"
   ]
  },
  {
   "cell_type": "markdown",
   "id": "0d8c11aa",
   "metadata": {},
   "source": [
    "### 3.1 Search for Direct Flights"
   ]
  },
  {
   "cell_type": "code",
   "execution_count": 20,
   "id": "82627030",
   "metadata": {},
   "outputs": [
    {
     "name": "stdout",
     "output_type": "stream",
     "text": [
      "Searching for direct flights from JFK to SFO on 2024-05-16:\n",
      "\n",
      "Flight 1: HAT023\n",
      "  Departure: 14:00:00\n",
      "  Arrival: 20:00:00\n",
      "  Available seats: {'basic_economy': 9, 'economy': 8, 'business': 11}\n",
      "  Prices: {'basic_economy': 72, 'economy': 193, 'business': 221}\n"
     ]
    }
   ],
   "source": [
    "# Search for direct flights from JFK to LAX on a specific date\n",
    "origin = \"JFK\"\n",
    "destination = \"SFO\"\n",
    "date = \"2024-05-16\"\n",
    "\n",
    "print(f\"Searching for direct flights from {origin} to {destination} on {date}:\")\n",
    "direct_flights = tools.search_direct_flight(origin, destination, date)\n",
    "\n",
    "if direct_flights:\n",
    "    for i, flight in enumerate(direct_flights, 1):\n",
    "        print(f\"\\nFlight {i}: {flight.flight_number}\")\n",
    "        print(f\"  Departure: {flight.scheduled_departure_time_est}\")\n",
    "        print(f\"  Arrival: {flight.scheduled_arrival_time_est}\")\n",
    "        print(f\"  Available seats: {flight.available_seats}\")\n",
    "        print(f\"  Prices: {flight.prices}\")\n",
    "else:\n",
    "    print(\"No direct flights found.\")"
   ]
  },
  {
   "cell_type": "markdown",
   "id": "9eed7252",
   "metadata": {},
   "source": [
    "### 3.2 Search for One-Stop Flights"
   ]
  },
  {
   "cell_type": "code",
   "execution_count": 21,
   "id": "cf0c4f01",
   "metadata": {},
   "outputs": [
    {
     "name": "stdout",
     "output_type": "stream",
     "text": [
      "\n",
      "Searching for one-stop flights from JFK to SFO on 2024-05-16:\n",
      "\n",
      "Option 1:\n",
      "  First leg: HAT069 (JFK → SEA)\n",
      "    Departure: 06:00:00\n",
      "    Arrival: 12:00:00\n",
      "  Second leg: HAT011 (SEA → SFO)\n",
      "    Departure: 13:00:00\n",
      "    Arrival: 15:00:00\n",
      "\n",
      "Option 2:\n",
      "  First leg: HAT069 (JFK → SEA)\n",
      "    Departure: 06:00:00\n",
      "    Arrival: 12:00:00\n",
      "  Second leg: HAT258 (SEA → SFO)\n",
      "    Departure: 17:00:00\n",
      "    Arrival: 19:00:00\n",
      "\n",
      "Option 3:\n",
      "  First leg: HAT069 (JFK → SEA)\n",
      "    Departure: 06:00:00\n",
      "    Arrival: 12:00:00\n",
      "  Second leg: HAT274 (SEA → SFO)\n",
      "    Departure: 20:00:00\n",
      "    Arrival: 22:00:00\n"
     ]
    }
   ],
   "source": [
    "# Search for one-stop flights\n",
    "print(f\"\\nSearching for one-stop flights from {origin} to {destination} on {date}:\")\n",
    "onestop_flights = tools.search_onestop_flight(origin, destination, date)\n",
    "\n",
    "if onestop_flights:\n",
    "    for i, (flight1, flight2) in enumerate(onestop_flights[:3], 1):  # Show first 3\n",
    "        print(f\"\\nOption {i}:\")\n",
    "        print(f\"  First leg: {flight1.flight_number} ({flight1.origin} → {flight1.destination})\")\n",
    "        print(f\"    Departure: {flight1.scheduled_departure_time_est}\")\n",
    "        print(f\"    Arrival: {flight1.scheduled_arrival_time_est}\")\n",
    "        print(f\"  Second leg: {flight2.flight_number} ({flight2.origin} → {flight2.destination})\")\n",
    "        print(f\"    Departure: {flight2.scheduled_departure_time_est}\")\n",
    "        print(f\"    Arrival: {flight2.scheduled_arrival_time_est}\")\n",
    "else:\n",
    "    print(\"No one-stop flights found.\")"
   ]
  },
  {
   "cell_type": "markdown",
   "id": "9205e81e",
   "metadata": {},
   "source": [
    "### 3.3 Check Flight Status"
   ]
  },
  {
   "cell_type": "code",
   "execution_count": 22,
   "id": "b5d5bf7e",
   "metadata": {},
   "outputs": [
    {
     "name": "stdout",
     "output_type": "stream",
     "text": [
      "Flight HAT001 on 2024-05-20: available\n"
     ]
    }
   ],
   "source": [
    "# Check status of a specific flight\n",
    "flight_number = \"HAT001\"\n",
    "check_date = \"2024-05-20\"\n",
    "\n",
    "try:\n",
    "    status = tools.get_flight_status(flight_number, check_date)\n",
    "    print(f\"Flight {flight_number} on {check_date}: {status}\")\n",
    "except ValueError as e:\n",
    "    print(f\"Error: {e}\")"
   ]
  },
  {
   "cell_type": "markdown",
   "id": "768cb774",
   "metadata": {},
   "source": [
    "## 4. Making a New Booking"
   ]
  },
  {
   "cell_type": "code",
   "execution_count": 23,
   "id": "f2dfc892",
   "metadata": {},
   "outputs": [
    {
     "name": "stdout",
     "output_type": "stream",
     "text": [
      "Selected user: mia_li_3668 (Mia Li)\n",
      "Available payment methods: ['credit_card_4421486', 'certificate_4856383', 'certificate_7504069', 'credit_card_1955700']\n"
     ]
    }
   ],
   "source": [
    "# Let's find a user with available payment methods\n",
    "sample_user = None\n",
    "for user_id in user_ids:\n",
    "    user = tools.get_user_details(user_id)\n",
    "    if user.payment_methods:\n",
    "        sample_user = user\n",
    "        break\n",
    "\n",
    "if sample_user:\n",
    "    print(f\"Selected user: {sample_user.user_id} ({sample_user.name.first_name} {sample_user.name.last_name})\")\n",
    "    print(f\"Available payment methods: {list(sample_user.payment_methods.keys())}\")\n",
    "    \n",
    "    # Get a payment method with sufficient balance\n",
    "    selected_payment = None\n",
    "    for payment_id, payment_method in sample_user.payment_methods.items():\n",
    "        if hasattr(payment_method, 'amount') and payment_method.amount > 500:\n",
    "            selected_payment = payment_id\n",
    "            print(f\"Selected payment method: {payment_id} (Balance: ${payment_method.amount})\")\n",
    "            break\n",
    "else:\n",
    "    print(\"No suitable user found for booking demo.\")"
   ]
  },
  {
   "cell_type": "code",
   "execution_count": 26,
   "id": "abd3d119",
   "metadata": {},
   "outputs": [
    {
     "data": {
      "text/plain": [
       "User(user_id='mia_li_3668', name=Name(first_name='Mia', last_name='Li'), address=Address(address1='975 Sunset Drive', address2='Suite 217', city='Austin', country='USA', state='TX', zip='78750'), email='mia.li3818@example.com', dob='1990-04-05', payment_methods={'credit_card_4421486': CreditCard(source='credit_card', id='credit_card_4421486', brand='visa', last_four='7447'), 'certificate_4856383': Certificate(source='certificate', id='certificate_4856383', amount=100.0), 'certificate_7504069': Certificate(source='certificate', id='certificate_7504069', amount=250.0), 'credit_card_1955700': CreditCard(source='credit_card', id='credit_card_1955700', brand='visa', last_four='1907')}, saved_passengers=[Passenger(first_name='Amelia', last_name='Ahmed', dob='1957-03-21')], membership='gold', reservations=['NO6JO3', 'AIXC49', 'HKEG34'])"
      ]
     },
     "execution_count": 26,
     "metadata": {},
     "output_type": "execute_result"
    }
   ],
   "source": [
    "user"
   ]
  },
  {
   "cell_type": "code",
   "execution_count": 24,
   "id": "4e21d9a8",
   "metadata": {},
   "outputs": [
    {
     "name": "stdout",
     "output_type": "stream",
     "text": [
      "Available flights from DEN to MIA on 2024-05-25:\n",
      "Selected flight: HAT130\n",
      "Available economy seats: 4\n",
      "Economy price: $153\n"
     ]
    }
   ],
   "source": [
    "# Find available flights for booking\n",
    "booking_origin = \"DEN\"\n",
    "booking_destination = \"MIA\"\n",
    "booking_date = \"2024-05-25\"\n",
    "\n",
    "available_flights = tools.search_direct_flight(booking_origin, booking_destination, booking_date)\n",
    "print(f\"Available flights from {booking_origin} to {booking_destination} on {booking_date}:\")\n",
    "\n",
    "if available_flights:\n",
    "    selected_flight = available_flights[0]\n",
    "    print(f\"Selected flight: {selected_flight.flight_number}\")\n",
    "    print(f\"Available economy seats: {selected_flight.available_seats.get('economy', 0)}\")\n",
    "    print(f\"Economy price: ${selected_flight.prices.get('economy', 0)}\")\n",
    "else:\n",
    "    print(\"No available flights found for booking.\")"
   ]
  },
  {
   "cell_type": "code",
   "execution_count": 30,
   "id": "4efb5fd7",
   "metadata": {},
   "outputs": [],
   "source": [
    "selected_payment = 'credit_card_4421486'"
   ]
  },
  {
   "cell_type": "code",
   "execution_count": 28,
   "id": "abac7782",
   "metadata": {},
   "outputs": [
    {
     "data": {
      "text/plain": [
       "DirectFlight(flight_number='HAT130', origin='DEN', destination='MIA', status='available', scheduled_departure_time_est='02:00:00', scheduled_arrival_time_est='06:00:00', date=None, available_seats={'basic_economy': 3, 'economy': 4, 'business': 6}, prices={'basic_economy': 53, 'economy': 153, 'business': 460})"
      ]
     },
     "execution_count": 28,
     "metadata": {},
     "output_type": "execute_result"
    }
   ],
   "source": [
    "available_flights[0]"
   ]
  },
  {
   "cell_type": "code",
   "execution_count": 31,
   "id": "9ea1d645",
   "metadata": {},
   "outputs": [
    {
     "name": "stdout",
     "output_type": "stream",
     "text": [
      "\n",
      "Attempting to book:\n",
      "Flight: {'flight_number': 'HAT130', 'date': '2024-05-25'}\n",
      "Passenger: {'first_name': 'Mia', 'last_name': 'Li', 'dob': '1990-04-05'}\n",
      "Payment: {'payment_id': 'credit_card_4421486', 'amount': 153}\n",
      "\n",
      "✅ Booking successful!\n",
      "Reservation ID: HATHAT\n",
      "Flight: HAT130\n",
      "Total cost: $153\n"
     ]
    }
   ],
   "source": [
    "# Make a booking (if we have suitable data)\n",
    "if sample_user and selected_payment and available_flights:\n",
    "    try:\n",
    "        # Prepare booking data\n",
    "        flight_info = {\n",
    "            \"flight_number\": selected_flight.flight_number,\n",
    "            \"date\": booking_date\n",
    "        }\n",
    "        \n",
    "        passenger_info = {\n",
    "            \"first_name\": sample_user.name.first_name,\n",
    "            \"last_name\": sample_user.name.last_name,\n",
    "            \"dob\": sample_user.dob\n",
    "        }\n",
    "        \n",
    "        economy_price = selected_flight.prices.get('economy', 0)\n",
    "        payment_info = {\n",
    "            \"payment_id\": selected_payment,\n",
    "            \"amount\": economy_price\n",
    "        }\n",
    "        \n",
    "        print(f\"\\nAttempting to book:\")\n",
    "        print(f\"Flight: {flight_info}\")\n",
    "        print(f\"Passenger: {passenger_info}\")\n",
    "        print(f\"Payment: {payment_info}\")\n",
    "        \n",
    "        # Make the booking\n",
    "        new_reservation = tools.book_reservation(\n",
    "            user_id=sample_user.user_id,\n",
    "            origin=booking_origin,\n",
    "            destination=booking_destination,\n",
    "            flight_type=\"one_way\",\n",
    "            cabin=\"economy\",\n",
    "            flights=[flight_info],\n",
    "            passengers=[passenger_info],\n",
    "            payment_methods=[payment_info],\n",
    "            total_baggages=1,\n",
    "            nonfree_baggages=0,\n",
    "            insurance=\"no\"\n",
    "        )\n",
    "        \n",
    "        print(f\"\\n✅ Booking successful!\")\n",
    "        print(f\"Reservation ID: {new_reservation.reservation_id}\")\n",
    "        print(f\"Flight: {new_reservation.flights[0].flight_number}\")\n",
    "        print(f\"Total cost: ${new_reservation.flights[0].price}\")\n",
    "        \n",
    "    except Exception as e:\n",
    "        print(f\"❌ Booking failed: {e}\")\n",
    "else:\n",
    "    print(\"Cannot demonstrate booking - missing required data.\")"
   ]
  },
  {
   "cell_type": "markdown",
   "id": "a601bcbb",
   "metadata": {},
   "source": [
    "## 5. Reservation Management Operations"
   ]
  },
  {
   "cell_type": "markdown",
   "id": "b049e260",
   "metadata": {},
   "source": [
    "### 5.1 Update Passenger Information"
   ]
  },
  {
   "cell_type": "code",
   "execution_count": 32,
   "id": "b24a0a3d",
   "metadata": {},
   "outputs": [
    {
     "name": "stderr",
     "output_type": "stream",
     "text": [
      "\u001b[32m2025-08-20 22:17:04.808\u001b[0m | \u001b[1mINFO    \u001b[0m | \u001b[36mairline_env.tools\u001b[0m:\u001b[36mupdate_reservation_passengers\u001b[0m:\u001b[36m722\u001b[0m - \u001b[1m1\u001b[0m\n",
      "\u001b[32m2025-08-20 22:17:04.809\u001b[0m | \u001b[1mINFO    \u001b[0m | \u001b[36mairline_env.tools\u001b[0m:\u001b[36mupdate_reservation_passengers\u001b[0m:\u001b[36m723\u001b[0m - \u001b[1m1\u001b[0m\n"
     ]
    },
    {
     "name": "stdout",
     "output_type": "stream",
     "text": [
      "Updating passenger information for reservation: HATHAT\n",
      "Current passengers: 1\n",
      "✅ Passenger information updated successfully!\n"
     ]
    }
   ],
   "source": [
    "# Get a reservation to update\n",
    "if 'new_reservation' in locals():\n",
    "    reservation_to_update = new_reservation.reservation_id\n",
    "else:\n",
    "    # Use an existing reservation\n",
    "    reservation_to_update = sample_reservation_id\n",
    "\n",
    "print(f\"Updating passenger information for reservation: {reservation_to_update}\")\n",
    "\n",
    "try:\n",
    "    # Get current reservation details\n",
    "    current_reservation = tools.get_reservation_details(reservation_to_update)\n",
    "    print(f\"Current passengers: {len(current_reservation.passengers)}\")\n",
    "    \n",
    "    # Update passenger details (keeping same structure)\n",
    "    updated_passengers = []\n",
    "    for passenger in current_reservation.passengers:\n",
    "        updated_passenger = {\n",
    "            \"first_name\": passenger.first_name,\n",
    "            \"last_name\": passenger.last_name,\n",
    "            \"dob\": passenger.dob\n",
    "        }\n",
    "        updated_passengers.append(updated_passenger)\n",
    "    \n",
    "    # Update the reservation\n",
    "    updated_reservation = tools.update_reservation_passengers(\n",
    "        reservation_id=reservation_to_update,\n",
    "        passengers=updated_passengers\n",
    "    )\n",
    "    \n",
    "    print(f\"✅ Passenger information updated successfully!\")\n",
    "    \n",
    "except Exception as e:\n",
    "    print(f\"❌ Update failed: {e}\")"
   ]
  },
  {
   "cell_type": "markdown",
   "id": "660ba79a",
   "metadata": {},
   "source": [
    "### 5.2 Update Baggage Information"
   ]
  },
  {
   "cell_type": "code",
   "execution_count": 33,
   "id": "0da3c90d",
   "metadata": {},
   "outputs": [
    {
     "name": "stdout",
     "output_type": "stream",
     "text": [
      "Current baggage: 1 total, 0 paid\n",
      "Adding 1 additional paid bag...\n",
      "✅ Baggage updated successfully!\n",
      "New baggage: 2 total, 1 paid\n",
      "Additional charge: $50\n"
     ]
    }
   ],
   "source": [
    "# Update baggage information\n",
    "try:\n",
    "    current_reservation = tools.get_reservation_details(reservation_to_update)\n",
    "    user = tools.get_user_details(current_reservation.user_id)\n",
    "    \n",
    "    # Get a payment method for the baggage fee\n",
    "    payment_method_id = list(user.payment_methods.keys())[0]\n",
    "    \n",
    "    print(f\"Current baggage: {current_reservation.total_baggages} total, {current_reservation.nonfree_baggages} paid\")\n",
    "    print(f\"Adding 1 additional paid bag...\")\n",
    "    \n",
    "    updated_reservation = tools.update_reservation_baggages(\n",
    "        reservation_id=reservation_to_update,\n",
    "        total_baggages=current_reservation.total_baggages + 1,\n",
    "        nonfree_baggages=current_reservation.nonfree_baggages + 1,\n",
    "        payment_id=payment_method_id\n",
    "    )\n",
    "    \n",
    "    print(f\"✅ Baggage updated successfully!\")\n",
    "    print(f\"New baggage: {updated_reservation.total_baggages} total, {updated_reservation.nonfree_baggages} paid\")\n",
    "    print(f\"Additional charge: $50\")\n",
    "    \n",
    "except Exception as e:\n",
    "    print(f\"❌ Baggage update failed: {e}\")"
   ]
  },
  {
   "cell_type": "markdown",
   "id": "83876898",
   "metadata": {},
   "source": [
    "### 5.3 Send Certificate (Compensation)"
   ]
  },
  {
   "cell_type": "code",
   "execution_count": 34,
   "id": "a31711f5",
   "metadata": {},
   "outputs": [
    {
     "name": "stdout",
     "output_type": "stream",
     "text": [
      "Sending $100 certificate to user mia_li_3668...\n",
      "✅ Certificate certificate_3221322 added to user mia_li_3668 with amount 100.\n",
      "User now has 3 certificate(s)\n"
     ]
    }
   ],
   "source": [
    "# Send a certificate to a user as compensation\n",
    "try:\n",
    "    user_for_certificate = sample_user.user_id\n",
    "    certificate_amount = 100\n",
    "    \n",
    "    print(f\"Sending ${certificate_amount} certificate to user {user_for_certificate}...\")\n",
    "    \n",
    "    result = tools.send_certificate(\n",
    "        user_id=user_for_certificate,\n",
    "        amount=certificate_amount\n",
    "    )\n",
    "    \n",
    "    print(f\"✅ {result}\")\n",
    "    \n",
    "    # Verify the certificate was added\n",
    "    updated_user = tools.get_user_details(user_for_certificate)\n",
    "    certificates = [pm for pm_id, pm in updated_user.payment_methods.items() if pm.source == \"certificate\"]\n",
    "    print(f\"User now has {len(certificates)} certificate(s)\")\n",
    "    \n",
    "except Exception as e:\n",
    "    print(f\"❌ Certificate sending failed: {e}\")"
   ]
  },
  {
   "cell_type": "markdown",
   "id": "b2f4df7a",
   "metadata": {},
   "source": [
    "## 6. Cancellation Operations"
   ]
  },
  {
   "cell_type": "code",
   "execution_count": 35,
   "id": "dc398c0c",
   "metadata": {},
   "outputs": [
    {
     "name": "stderr",
     "output_type": "stream",
     "text": [
      "\u001b[32m2025-08-20 22:17:22.541\u001b[0m | \u001b[34m\u001b[1mDEBUG   \u001b[0m | \u001b[36mairline_env.tools\u001b[0m:\u001b[36mcancel_reservation\u001b[0m:\u001b[36m389\u001b[0m - \u001b[34m\u001b[1m{\n",
      "    \"reservation_id\": \"HATHAT\",\n",
      "    \"user_id\": \"mia_li_3668\",\n",
      "    \"origin\": \"DEN\",\n",
      "    \"destination\": \"MIA\",\n",
      "    \"flight_type\": \"one_way\",\n",
      "    \"cabin\": \"economy\",\n",
      "    \"flights\": [\n",
      "        {\n",
      "            \"flight_number\": \"HAT130\",\n",
      "            \"origin\": \"DEN\",\n",
      "            \"destination\": \"MIA\",\n",
      "            \"date\": \"2024-05-25\",\n",
      "            \"price\": 153\n",
      "        }\n",
      "    ],\n",
      "    \"passengers\": [\n",
      "        {\n",
      "            \"first_name\": \"Mia\",\n",
      "            \"last_name\": \"Li\",\n",
      "            \"dob\": \"1990-04-05\"\n",
      "        }\n",
      "    ],\n",
      "    \"payment_history\": [\n",
      "        {\n",
      "            \"payment_id\": \"credit_card_4421486\",\n",
      "            \"amount\": 153\n",
      "        },\n",
      "        {\n",
      "            \"payment_id\": \"credit_card_4421486\",\n",
      "            \"amount\": 50\n",
      "        }\n",
      "    ],\n",
      "    \"created_at\": \"2024-05-15T15:00:00\",\n",
      "    \"total_baggages\": 2,\n",
      "    \"nonfree_baggages\": 1,\n",
      "    \"insurance\": \"no\",\n",
      "    \"status\": null\n",
      "}\u001b[0m\n",
      "\u001b[32m2025-08-20 22:17:22.544\u001b[0m | \u001b[34m\u001b[1mDEBUG   \u001b[0m | \u001b[36mairline_env.tools\u001b[0m:\u001b[36mcancel_reservation\u001b[0m:\u001b[36m401\u001b[0m - \u001b[34m\u001b[1m{\n",
      "    \"reservation_id\": \"HATHAT\",\n",
      "    \"user_id\": \"mia_li_3668\",\n",
      "    \"origin\": \"DEN\",\n",
      "    \"destination\": \"MIA\",\n",
      "    \"flight_type\": \"one_way\",\n",
      "    \"cabin\": \"economy\",\n",
      "    \"flights\": [\n",
      "        {\n",
      "            \"flight_number\": \"HAT130\",\n",
      "            \"origin\": \"DEN\",\n",
      "            \"destination\": \"MIA\",\n",
      "            \"date\": \"2024-05-25\",\n",
      "            \"price\": 153\n",
      "        }\n",
      "    ],\n",
      "    \"passengers\": [\n",
      "        {\n",
      "            \"first_name\": \"Mia\",\n",
      "            \"last_name\": \"Li\",\n",
      "            \"dob\": \"1990-04-05\"\n",
      "        }\n",
      "    ],\n",
      "    \"payment_history\": [\n",
      "        {\n",
      "            \"payment_id\": \"credit_card_4421486\",\n",
      "            \"amount\": 153\n",
      "        },\n",
      "        {\n",
      "            \"payment_id\": \"credit_card_4421486\",\n",
      "            \"amount\": 50\n",
      "        },\n",
      "        {\n",
      "            \"payment_id\": \"credit_card_4421486\",\n",
      "            \"amount\": -153\n",
      "        },\n",
      "        {\n",
      "            \"payment_id\": \"credit_card_4421486\",\n",
      "            \"amount\": -50\n",
      "        }\n",
      "    ],\n",
      "    \"created_at\": \"2024-05-15T15:00:00\",\n",
      "    \"total_baggages\": 2,\n",
      "    \"nonfree_baggages\": 1,\n",
      "    \"insurance\": \"no\",\n",
      "    \"status\": \"cancelled\"\n",
      "}\u001b[0m\n",
      "\u001b[32m2025-08-20 22:17:22.545\u001b[0m | \u001b[33m\u001b[1mWARNING \u001b[0m | \u001b[36mairline_env.tools\u001b[0m:\u001b[36mcancel_reservation\u001b[0m:\u001b[36m403\u001b[0m - \u001b[33m\u001b[1mSeats release not implemented for cancellation!!!\u001b[0m\n"
     ]
    },
    {
     "name": "stdout",
     "output_type": "stream",
     "text": [
      "Cancelling newly created reservation: HATHAT\n",
      "Before cancellation - Status: Active\n",
      "Payment history entries: 2\n",
      "\n",
      "✅ Reservation cancelled successfully!\n",
      "After cancellation - Status: cancelled\n",
      "Payment history entries: 4\n",
      "Refund entries added for original payments\n"
     ]
    }
   ],
   "source": [
    "# Cancel a reservation\n",
    "if 'new_reservation' in locals():\n",
    "    reservation_to_cancel = new_reservation.reservation_id\n",
    "    print(f\"Cancelling newly created reservation: {reservation_to_cancel}\")\n",
    "else:\n",
    "    # Find a non-cancelled reservation to cancel\n",
    "    reservation_to_cancel = None\n",
    "    for res_id in list(env.db.reservations.keys())[:5]:\n",
    "        res = tools.get_reservation_details(res_id)\n",
    "        if res.status != \"cancelled\":\n",
    "            reservation_to_cancel = res_id\n",
    "            break\n",
    "    \n",
    "    if reservation_to_cancel:\n",
    "        print(f\"Cancelling existing reservation: {reservation_to_cancel}\")\n",
    "    else:\n",
    "        print(\"No suitable reservation found for cancellation demo.\")\n",
    "\n",
    "if reservation_to_cancel:\n",
    "    try:\n",
    "        # Get reservation details before cancellation\n",
    "        before_cancellation = tools.get_reservation_details(reservation_to_cancel)\n",
    "        print(f\"Before cancellation - Status: {before_cancellation.status or 'Active'}\")\n",
    "        print(f\"Payment history entries: {len(before_cancellation.payment_history)}\")\n",
    "        \n",
    "        # Cancel the reservation\n",
    "        cancelled_reservation = tools.cancel_reservation(reservation_to_cancel)\n",
    "        \n",
    "        print(f\"\\n✅ Reservation cancelled successfully!\")\n",
    "        print(f\"After cancellation - Status: {cancelled_reservation.status}\")\n",
    "        print(f\"Payment history entries: {len(cancelled_reservation.payment_history)}\")\n",
    "        print(f\"Refund entries added for original payments\")\n",
    "        \n",
    "    except Exception as e:\n",
    "        print(f\"❌ Cancellation failed: {e}\")"
   ]
  },
  {
   "cell_type": "markdown",
   "id": "2ffc6eb6",
   "metadata": {},
   "source": [
    "## 7. Utility Operations"
   ]
  },
  {
   "cell_type": "markdown",
   "id": "e53ed2b3",
   "metadata": {},
   "source": [
    "### 7.1 Mathematical Calculations"
   ]
  },
  {
   "cell_type": "code",
   "execution_count": 36,
   "id": "7c2f6104",
   "metadata": {},
   "outputs": [
    {
     "name": "stdout",
     "output_type": "stream",
     "text": [
      "Testing calculation functionality:\n",
      "  299 + 50 = 349.0\n",
      "  399 * 2 = 798.0\n",
      "  (299 + 50) * 2 + 30 = 728.0\n",
      "  1000 - 250 = 750.0\n"
     ]
    }
   ],
   "source": [
    "# Test the calculate function\n",
    "calculations = [\n",
    "    \"299 + 50\",  # Flight price + baggage\n",
    "    \"399 * 2\",   # Flight price for 2 passengers\n",
    "    \"(299 + 50) * 2 + 30\",  # Complex calculation\n",
    "    \"1000 - 250\",  # Refund calculation\n",
    "]\n",
    "\n",
    "print(\"Testing calculation functionality:\")\n",
    "for expr in calculations:\n",
    "    try:\n",
    "        result = tools.calculate(expr)\n",
    "        print(f\"  {expr} = {result}\")\n",
    "    except Exception as e:\n",
    "        print(f\"  {expr} → Error: {e}\")"
   ]
  },
  {
   "cell_type": "markdown",
   "id": "0df4fda9",
   "metadata": {},
   "source": [
    "### 7.2 Human Agent Transfer"
   ]
  },
  {
   "cell_type": "code",
   "execution_count": 37,
   "id": "3c92b200",
   "metadata": {},
   "outputs": [
    {
     "name": "stdout",
     "output_type": "stream",
     "text": [
      "Transfer request: Customer is requesting a complex multi-city itinerary change that requires manual review.\n",
      "Result: Transfer successful\n"
     ]
    }
   ],
   "source": [
    "# Demonstrate transfer to human agent\n",
    "summary = \"Customer is requesting a complex multi-city itinerary change that requires manual review.\"\n",
    "transfer_result = tools.transfer_to_human_agents(summary)\n",
    "print(f\"Transfer request: {summary}\")\n",
    "print(f\"Result: {transfer_result}\")"
   ]
  },
  {
   "cell_type": "markdown",
   "id": "175b5dbe",
   "metadata": {},
   "source": [
    "## 8. Error Handling and Edge Cases"
   ]
  },
  {
   "cell_type": "code",
   "execution_count": 38,
   "id": "1633fe25",
   "metadata": {},
   "outputs": [
    {
     "name": "stdout",
     "output_type": "stream",
     "text": [
      "Testing error handling:\n",
      "✅ Non-existent user error: User non_existent_user not found\n",
      "✅ Non-existent reservation error: Reservation INVALID_ID not found\n",
      "✅ Non-existent flight error: Flight INVALID_FLIGHT not found\n",
      "✅ Invalid calculation error: Invalid characters in expression\n"
     ]
    }
   ],
   "source": [
    "# Test various error conditions\n",
    "print(\"Testing error handling:\")\n",
    "\n",
    "# 1. Non-existent user\n",
    "try:\n",
    "    tools.get_user_details(\"non_existent_user\")\n",
    "except ValueError as e:\n",
    "    print(f\"✅ Non-existent user error: {e}\")\n",
    "\n",
    "# 2. Non-existent reservation\n",
    "try:\n",
    "    tools.get_reservation_details(\"INVALID_ID\")\n",
    "except ValueError as e:\n",
    "    print(f\"✅ Non-existent reservation error: {e}\")\n",
    "\n",
    "# 3. Non-existent flight\n",
    "try:\n",
    "    tools.get_flight_status(\"INVALID_FLIGHT\", \"2024-05-20\")\n",
    "except ValueError as e:\n",
    "    print(f\"✅ Non-existent flight error: {e}\")\n",
    "\n",
    "# 4. Invalid calculation\n",
    "try:\n",
    "    tools.calculate(\"invalid expression\")\n",
    "except ValueError as e:\n",
    "    print(f\"✅ Invalid calculation error: {e}\")"
   ]
  },
  {
   "cell_type": "markdown",
   "id": "38f98f40",
   "metadata": {},
   "source": [
    "## 9. Environment State Management"
   ]
  },
  {
   "cell_type": "code",
   "execution_count": 39,
   "id": "d8742bce",
   "metadata": {},
   "outputs": [
    {
     "name": "stdout",
     "output_type": "stream",
     "text": [
      "Saving environment state...\n",
      "✅ State saved successfully!\n",
      "\n",
      "Final Environment Statistics:\n",
      "{'num_flights': 300,\n",
      " 'num_flights_instances': 9000,\n",
      " 'num_reservations': 2001,\n",
      " 'num_users': 500}\n"
     ]
    }
   ],
   "source": [
    "# Save current state\n",
    "print(\"Saving environment state...\")\n",
    "env.save_state()\n",
    "print(\"✅ State saved successfully!\")\n",
    "\n",
    "# Show final statistics\n",
    "print(\"\\nFinal Environment Statistics:\")\n",
    "pprint(env.get_statistics())\n",
    "\n",
    "# Reset environment (optional)\n",
    "# env.reset()\n",
    "# print(\"\\nEnvironment reset to initial state.\")"
   ]
  },
  {
   "cell_type": "markdown",
   "id": "d0f5251d",
   "metadata": {},
   "source": [
    "## Summary\n",
    "\n",
    "This notebook demonstrated the comprehensive functionality of the TAU airline environment implementation, including:\n",
    "\n",
    "1. **Environment Setup**: Initializing the airline environment and exploring the database\n",
    "2. **Data Exploration**: Browsing airports, users, and reservations\n",
    "3. **Flight Search**: Finding direct and one-stop flights\n",
    "4. **Booking Operations**: Creating new reservations with proper validation\n",
    "5. **Reservation Management**: Updating passenger info, baggage, and sending certificates\n",
    "6. **Cancellations**: Cancelling reservations with proper refund handling\n",
    "7. **Utility Functions**: Mathematical calculations and human agent transfers\n",
    "8. **Error Handling**: Proper error responses for invalid operations\n",
    "9. **State Management**: Saving and resetting the environment\n",
    "\n",
    "The implementation closely follows the TAU bench specification and provides a robust foundation for airline reservation system interactions in tool use scenarios."
   ]
  }
 ],
 "metadata": {
  "kernelspec": {
   "display_name": "base",
   "language": "python",
   "name": "python3"
  },
  "language_info": {
   "codemirror_mode": {
    "name": "ipython",
    "version": 3
   },
   "file_extension": ".py",
   "mimetype": "text/x-python",
   "name": "python",
   "nbconvert_exporter": "python",
   "pygments_lexer": "ipython3",
   "version": "3.13.5"
  }
 },
 "nbformat": 4,
 "nbformat_minor": 5
}
